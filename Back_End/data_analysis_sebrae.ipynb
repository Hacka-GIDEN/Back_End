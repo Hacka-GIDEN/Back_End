{
 "cells": [
  {
   "cell_type": "code",
   "execution_count": 1,
   "metadata": {
    "scrolled": true
   },
   "outputs": [
    {
     "name": "stdout",
     "output_type": "stream",
     "text": [
      "Populating the interactive namespace from numpy and matplotlib\n"
     ]
    }
   ],
   "source": [
    "#Bibliotecas padrao:\n",
    "import numpy as np\n",
    "import pandas as pd\n",
    "import matplotlib.pyplot as plt\n",
    "import seaborn as sbn\n",
    "import json\n",
    "%matplotlib inline\n",
    "%pylab inline"
   ]
  },
  {
   "cell_type": "code",
   "execution_count": 2,
   "metadata": {},
   "outputs": [
    {
     "name": "stdout",
     "output_type": "stream",
     "text": [
      "{'cliente_n1': {'nome': 'Carlos', 'idade': 19, 'local': 'Manaus', 'caixa': 20}, 'cliente_n2': {'nome': 'Vinicius', 'idade': 19, 'local': 'Iranduba', 'caixa': 200}, 'cliente_n3': {'nome': 'Souza', 'idade': 19, 'local': 'Maúes', 'caixa': 200}}\n"
     ]
    }
   ],
   "source": [
    "#Chamando nosso Banco de Dados:\n",
    "def reading_json():\n",
    "    with open('info_n1.json', encoding='utf-8') as data:\n",
    "         return json.load(data)\n",
    "    \n",
    "var = reading_json()\n",
    "print(var)"
   ]
  },
  {
   "cell_type": "code",
   "execution_count": 11,
   "metadata": {
    "scrolled": true
   },
   "outputs": [
    {
     "name": "stdout",
     "output_type": "stream",
     "text": [
      "Seu nome por favor:carlos\n",
      "Sua idade por favor:19\n",
      "local do seu negócio:am\n",
      "O dinheiro que tem no seu caixa:10\n"
     ]
    },
    {
     "data": {
      "text/plain": [
       "{'nome': 'carlos', 'idade': '19', 'local': 'am', 'caixa': '10'}"
      ]
     },
     "execution_count": 11,
     "metadata": {},
     "output_type": "execute_result"
    }
   ],
   "source": [
    "#Mandando info:\n",
    "nome = input('Seu nome por favor:')\n",
    "idade = input('Sua idade por favor:')\n",
    "local = input('local do seu negócio:')\n",
    "caixa = input('O dinheiro que tem no seu caixa:')\n",
    "\n",
    "cliente_n = {'nome':nome, 'idade':idade, 'local':local, 'caixa':caixa}\n",
    "cliente_n"
   ]
  },
  {
   "cell_type": "code",
   "execution_count": 22,
   "metadata": {},
   "outputs": [],
   "source": [
    "# add info!"
   ]
  },
  {
   "cell_type": "code",
   "execution_count": 20,
   "metadata": {},
   "outputs": [],
   "source": [
    "#Separando as variaveis:\n",
    "var_nome = [var['cliente_n1']['nome'],\n",
    "            var['cliente_n2']['nome'],\n",
    "            var['cliente_n3']['nome']]\n",
    "#var_nome #jogar todas as infos de {var[]} aqui\n",
    "var_idade = [var['cliente_n1']['idade'],\n",
    "            var['cliente_n2']['idade'],\n",
    "            var['cliente_n3']['idade']]\n",
    "#var_idade #jogar todas as infos de {var[]} aqui\n",
    "var_caixa = [var['cliente_n1']['caixa'],\n",
    "            var['cliente_n2']['caixa'],\n",
    "            var['cliente_n3']['caixa']]\n",
    "#var_caixa #jogar todas as infos de {var[]} aqui"
   ]
  }
 ],
 "metadata": {
  "kernelspec": {
   "display_name": "Python 3",
   "language": "python",
   "name": "python3"
  },
  "language_info": {
   "codemirror_mode": {
    "name": "ipython",
    "version": 3
   },
   "file_extension": ".py",
   "mimetype": "text/x-python",
   "name": "python",
   "nbconvert_exporter": "python",
   "pygments_lexer": "ipython3",
   "version": "3.8.3"
  }
 },
 "nbformat": 4,
 "nbformat_minor": 4
}
